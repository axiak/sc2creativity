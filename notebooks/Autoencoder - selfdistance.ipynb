{
 "cells": [
  {
   "cell_type": "code",
   "execution_count": 1,
   "metadata": {},
   "outputs": [
    {
     "name": "stderr",
     "output_type": "stream",
     "text": [
      "Using TensorFlow backend.\n"
     ]
    }
   ],
   "source": [
    "import pandas as pd\n",
    "import numpy as np\n",
    "import os\n",
    "import datetime\n",
    "import sys\n",
    "import bisect\n",
    "\n",
    "sys.path.insert(0, '..')\n",
    "\n",
    "import keras.layers\n",
    "from keras.layers import Input, Dense, LocallyConnected1D, Reshape\n",
    "from keras.models import Model\n",
    "from keras import regularizers\n",
    "from sklearn import preprocessing\n",
    "\n",
    "from IPython.display import SVG\n",
    "from keras.utils import model_to_dot\n",
    "\n",
    "\n",
    "import seaborn as sns\n",
    "import matplotlib.pyplot as plt\n",
    "import matplotlib.pyplot as plt\n",
    "plt.rcParams['figure.figsize'] = [15, 10]"
   ]
  },
  {
   "cell_type": "code",
   "execution_count": 2,
   "metadata": {},
   "outputs": [],
   "source": [
    "import umap\n",
    "import umap.plot"
   ]
  },
  {
   "cell_type": "code",
   "execution_count": 3,
   "metadata": {},
   "outputs": [
    {
     "data": {
      "text/html": [
       "<div>\n",
       "<style scoped>\n",
       "    .dataframe tbody tr th:only-of-type {\n",
       "        vertical-align: middle;\n",
       "    }\n",
       "\n",
       "    .dataframe tbody tr th {\n",
       "        vertical-align: top;\n",
       "    }\n",
       "\n",
       "    .dataframe thead th {\n",
       "        text-align: right;\n",
       "    }\n",
       "</style>\n",
       "<table border=\"1\" class=\"dataframe\">\n",
       "  <thead>\n",
       "    <tr style=\"text-align: right;\">\n",
       "      <th></th>\n",
       "      <th>game_start</th>\n",
       "      <th>game_duration</th>\n",
       "      <th>self_won</th>\n",
       "      <th>self_name</th>\n",
       "      <th>self_race_is_protoss</th>\n",
       "      <th>self_race_is_zerg</th>\n",
       "      <th>self_race_is_terran</th>\n",
       "      <th>opponent_name</th>\n",
       "      <th>opponent_race_is_protoss</th>\n",
       "      <th>opponent_race_is_zerg</th>\n",
       "      <th>...</th>\n",
       "      <th>TwilightCouncil_start</th>\n",
       "      <th>TwilightCouncil_weight</th>\n",
       "      <th>VoidRay_start</th>\n",
       "      <th>VoidRay_weight</th>\n",
       "      <th>WarpGate_start</th>\n",
       "      <th>WarpGate_weight</th>\n",
       "      <th>WarpPrism_start</th>\n",
       "      <th>WarpPrism_weight</th>\n",
       "      <th>Zealot_start</th>\n",
       "      <th>Zealot_weight</th>\n",
       "    </tr>\n",
       "  </thead>\n",
       "  <tbody>\n",
       "    <tr>\n",
       "      <th>20d6247127ed58eeca069051672d3e8c3598e132d2fc6c445040701499b72acf_0</th>\n",
       "      <td>2020-02-01 15:07:59</td>\n",
       "      <td>675</td>\n",
       "      <td>1.0</td>\n",
       "      <td>ShoWTimE</td>\n",
       "      <td>1.0</td>\n",
       "      <td>0.0</td>\n",
       "      <td>0.0</td>\n",
       "      <td>Trap</td>\n",
       "      <td>1.0</td>\n",
       "      <td>0.0</td>\n",
       "      <td>...</td>\n",
       "      <td>1000.000000</td>\n",
       "      <td>0.000000</td>\n",
       "      <td>1000.0</td>\n",
       "      <td>0.0</td>\n",
       "      <td>13.038405</td>\n",
       "      <td>1.0</td>\n",
       "      <td>1000.0</td>\n",
       "      <td>0.0</td>\n",
       "      <td>1000.000000</td>\n",
       "      <td>0.0</td>\n",
       "    </tr>\n",
       "    <tr>\n",
       "      <th>20d6247127ed58eeca069051672d3e8c3598e132d2fc6c445040701499b72acf_1</th>\n",
       "      <td>2020-02-01 15:07:59</td>\n",
       "      <td>675</td>\n",
       "      <td>0.0</td>\n",
       "      <td>Trap</td>\n",
       "      <td>1.0</td>\n",
       "      <td>0.0</td>\n",
       "      <td>0.0</td>\n",
       "      <td>ShoWTimE</td>\n",
       "      <td>1.0</td>\n",
       "      <td>0.0</td>\n",
       "      <td>...</td>\n",
       "      <td>1000.000000</td>\n",
       "      <td>0.000000</td>\n",
       "      <td>1000.0</td>\n",
       "      <td>0.0</td>\n",
       "      <td>13.000000</td>\n",
       "      <td>1.0</td>\n",
       "      <td>1000.0</td>\n",
       "      <td>0.0</td>\n",
       "      <td>1000.000000</td>\n",
       "      <td>0.0</td>\n",
       "    </tr>\n",
       "    <tr>\n",
       "      <th>50cb3b2f33692227e2e50e0e4fab529a44c4bfe9bfd9e8137c08a81e94f08370_1</th>\n",
       "      <td>2020-02-02 12:13:08</td>\n",
       "      <td>886</td>\n",
       "      <td>0.0</td>\n",
       "      <td>ShoWTimE</td>\n",
       "      <td>1.0</td>\n",
       "      <td>0.0</td>\n",
       "      <td>0.0</td>\n",
       "      <td>cure</td>\n",
       "      <td>0.0</td>\n",
       "      <td>0.0</td>\n",
       "      <td>...</td>\n",
       "      <td>13.856406</td>\n",
       "      <td>1.000000</td>\n",
       "      <td>1000.0</td>\n",
       "      <td>0.0</td>\n",
       "      <td>13.114877</td>\n",
       "      <td>1.0</td>\n",
       "      <td>1000.0</td>\n",
       "      <td>0.0</td>\n",
       "      <td>13.266499</td>\n",
       "      <td>1.0</td>\n",
       "    </tr>\n",
       "    <tr>\n",
       "      <th>038ca41ecf0198facf7425bfd5cfa9237f144e4e41d9c556b204612d55088de1_1</th>\n",
       "      <td>2020-02-02 13:34:45</td>\n",
       "      <td>825</td>\n",
       "      <td>0.0</td>\n",
       "      <td>ShoWTimE</td>\n",
       "      <td>1.0</td>\n",
       "      <td>0.0</td>\n",
       "      <td>0.0</td>\n",
       "      <td>cure</td>\n",
       "      <td>0.0</td>\n",
       "      <td>0.0</td>\n",
       "      <td>...</td>\n",
       "      <td>14.764823</td>\n",
       "      <td>1.927659</td>\n",
       "      <td>1000.0</td>\n",
       "      <td>0.0</td>\n",
       "      <td>13.416408</td>\n",
       "      <td>1.0</td>\n",
       "      <td>1000.0</td>\n",
       "      <td>0.0</td>\n",
       "      <td>1000.000000</td>\n",
       "      <td>0.0</td>\n",
       "    </tr>\n",
       "    <tr>\n",
       "      <th>eaa36f7eff9c1682c86aace4ff319bce335f3d61c6e362432c504618e3a95055_0</th>\n",
       "      <td>2020-02-01 14:58:20</td>\n",
       "      <td>531</td>\n",
       "      <td>0.0</td>\n",
       "      <td>ShoWTimE</td>\n",
       "      <td>1.0</td>\n",
       "      <td>0.0</td>\n",
       "      <td>0.0</td>\n",
       "      <td>Trap</td>\n",
       "      <td>1.0</td>\n",
       "      <td>0.0</td>\n",
       "      <td>...</td>\n",
       "      <td>1000.000000</td>\n",
       "      <td>0.000000</td>\n",
       "      <td>1000.0</td>\n",
       "      <td>0.0</td>\n",
       "      <td>13.000000</td>\n",
       "      <td>1.0</td>\n",
       "      <td>1000.0</td>\n",
       "      <td>0.0</td>\n",
       "      <td>1000.000000</td>\n",
       "      <td>0.0</td>\n",
       "    </tr>\n",
       "  </tbody>\n",
       "</table>\n",
       "<p>5 rows × 101 columns</p>\n",
       "</div>"
      ],
      "text/plain": [
       "                                                            game_start  \\\n",
       "20d6247127ed58eeca069051672d3e8c3598e132d2fc6c4... 2020-02-01 15:07:59   \n",
       "20d6247127ed58eeca069051672d3e8c3598e132d2fc6c4... 2020-02-01 15:07:59   \n",
       "50cb3b2f33692227e2e50e0e4fab529a44c4bfe9bfd9e81... 2020-02-02 12:13:08   \n",
       "038ca41ecf0198facf7425bfd5cfa9237f144e4e41d9c55... 2020-02-02 13:34:45   \n",
       "eaa36f7eff9c1682c86aace4ff319bce335f3d61c6e3624... 2020-02-01 14:58:20   \n",
       "\n",
       "                                                    game_duration  self_won  \\\n",
       "20d6247127ed58eeca069051672d3e8c3598e132d2fc6c4...            675       1.0   \n",
       "20d6247127ed58eeca069051672d3e8c3598e132d2fc6c4...            675       0.0   \n",
       "50cb3b2f33692227e2e50e0e4fab529a44c4bfe9bfd9e81...            886       0.0   \n",
       "038ca41ecf0198facf7425bfd5cfa9237f144e4e41d9c55...            825       0.0   \n",
       "eaa36f7eff9c1682c86aace4ff319bce335f3d61c6e3624...            531       0.0   \n",
       "\n",
       "                                                   self_name  \\\n",
       "20d6247127ed58eeca069051672d3e8c3598e132d2fc6c4...  ShoWTimE   \n",
       "20d6247127ed58eeca069051672d3e8c3598e132d2fc6c4...      Trap   \n",
       "50cb3b2f33692227e2e50e0e4fab529a44c4bfe9bfd9e81...  ShoWTimE   \n",
       "038ca41ecf0198facf7425bfd5cfa9237f144e4e41d9c55...  ShoWTimE   \n",
       "eaa36f7eff9c1682c86aace4ff319bce335f3d61c6e3624...  ShoWTimE   \n",
       "\n",
       "                                                    self_race_is_protoss  \\\n",
       "20d6247127ed58eeca069051672d3e8c3598e132d2fc6c4...                   1.0   \n",
       "20d6247127ed58eeca069051672d3e8c3598e132d2fc6c4...                   1.0   \n",
       "50cb3b2f33692227e2e50e0e4fab529a44c4bfe9bfd9e81...                   1.0   \n",
       "038ca41ecf0198facf7425bfd5cfa9237f144e4e41d9c55...                   1.0   \n",
       "eaa36f7eff9c1682c86aace4ff319bce335f3d61c6e3624...                   1.0   \n",
       "\n",
       "                                                    self_race_is_zerg  \\\n",
       "20d6247127ed58eeca069051672d3e8c3598e132d2fc6c4...                0.0   \n",
       "20d6247127ed58eeca069051672d3e8c3598e132d2fc6c4...                0.0   \n",
       "50cb3b2f33692227e2e50e0e4fab529a44c4bfe9bfd9e81...                0.0   \n",
       "038ca41ecf0198facf7425bfd5cfa9237f144e4e41d9c55...                0.0   \n",
       "eaa36f7eff9c1682c86aace4ff319bce335f3d61c6e3624...                0.0   \n",
       "\n",
       "                                                    self_race_is_terran  \\\n",
       "20d6247127ed58eeca069051672d3e8c3598e132d2fc6c4...                  0.0   \n",
       "20d6247127ed58eeca069051672d3e8c3598e132d2fc6c4...                  0.0   \n",
       "50cb3b2f33692227e2e50e0e4fab529a44c4bfe9bfd9e81...                  0.0   \n",
       "038ca41ecf0198facf7425bfd5cfa9237f144e4e41d9c55...                  0.0   \n",
       "eaa36f7eff9c1682c86aace4ff319bce335f3d61c6e3624...                  0.0   \n",
       "\n",
       "                                                   opponent_name  \\\n",
       "20d6247127ed58eeca069051672d3e8c3598e132d2fc6c4...          Trap   \n",
       "20d6247127ed58eeca069051672d3e8c3598e132d2fc6c4...      ShoWTimE   \n",
       "50cb3b2f33692227e2e50e0e4fab529a44c4bfe9bfd9e81...          cure   \n",
       "038ca41ecf0198facf7425bfd5cfa9237f144e4e41d9c55...          cure   \n",
       "eaa36f7eff9c1682c86aace4ff319bce335f3d61c6e3624...          Trap   \n",
       "\n",
       "                                                    opponent_race_is_protoss  \\\n",
       "20d6247127ed58eeca069051672d3e8c3598e132d2fc6c4...                       1.0   \n",
       "20d6247127ed58eeca069051672d3e8c3598e132d2fc6c4...                       1.0   \n",
       "50cb3b2f33692227e2e50e0e4fab529a44c4bfe9bfd9e81...                       0.0   \n",
       "038ca41ecf0198facf7425bfd5cfa9237f144e4e41d9c55...                       0.0   \n",
       "eaa36f7eff9c1682c86aace4ff319bce335f3d61c6e3624...                       1.0   \n",
       "\n",
       "                                                    opponent_race_is_zerg  \\\n",
       "20d6247127ed58eeca069051672d3e8c3598e132d2fc6c4...                    0.0   \n",
       "20d6247127ed58eeca069051672d3e8c3598e132d2fc6c4...                    0.0   \n",
       "50cb3b2f33692227e2e50e0e4fab529a44c4bfe9bfd9e81...                    0.0   \n",
       "038ca41ecf0198facf7425bfd5cfa9237f144e4e41d9c55...                    0.0   \n",
       "eaa36f7eff9c1682c86aace4ff319bce335f3d61c6e3624...                    0.0   \n",
       "\n",
       "                                                    ...  \\\n",
       "20d6247127ed58eeca069051672d3e8c3598e132d2fc6c4...  ...   \n",
       "20d6247127ed58eeca069051672d3e8c3598e132d2fc6c4...  ...   \n",
       "50cb3b2f33692227e2e50e0e4fab529a44c4bfe9bfd9e81...  ...   \n",
       "038ca41ecf0198facf7425bfd5cfa9237f144e4e41d9c55...  ...   \n",
       "eaa36f7eff9c1682c86aace4ff319bce335f3d61c6e3624...  ...   \n",
       "\n",
       "                                                    TwilightCouncil_start  \\\n",
       "20d6247127ed58eeca069051672d3e8c3598e132d2fc6c4...            1000.000000   \n",
       "20d6247127ed58eeca069051672d3e8c3598e132d2fc6c4...            1000.000000   \n",
       "50cb3b2f33692227e2e50e0e4fab529a44c4bfe9bfd9e81...              13.856406   \n",
       "038ca41ecf0198facf7425bfd5cfa9237f144e4e41d9c55...              14.764823   \n",
       "eaa36f7eff9c1682c86aace4ff319bce335f3d61c6e3624...            1000.000000   \n",
       "\n",
       "                                                    TwilightCouncil_weight  \\\n",
       "20d6247127ed58eeca069051672d3e8c3598e132d2fc6c4...                0.000000   \n",
       "20d6247127ed58eeca069051672d3e8c3598e132d2fc6c4...                0.000000   \n",
       "50cb3b2f33692227e2e50e0e4fab529a44c4bfe9bfd9e81...                1.000000   \n",
       "038ca41ecf0198facf7425bfd5cfa9237f144e4e41d9c55...                1.927659   \n",
       "eaa36f7eff9c1682c86aace4ff319bce335f3d61c6e3624...                0.000000   \n",
       "\n",
       "                                                    VoidRay_start  \\\n",
       "20d6247127ed58eeca069051672d3e8c3598e132d2fc6c4...         1000.0   \n",
       "20d6247127ed58eeca069051672d3e8c3598e132d2fc6c4...         1000.0   \n",
       "50cb3b2f33692227e2e50e0e4fab529a44c4bfe9bfd9e81...         1000.0   \n",
       "038ca41ecf0198facf7425bfd5cfa9237f144e4e41d9c55...         1000.0   \n",
       "eaa36f7eff9c1682c86aace4ff319bce335f3d61c6e3624...         1000.0   \n",
       "\n",
       "                                                    VoidRay_weight  \\\n",
       "20d6247127ed58eeca069051672d3e8c3598e132d2fc6c4...             0.0   \n",
       "20d6247127ed58eeca069051672d3e8c3598e132d2fc6c4...             0.0   \n",
       "50cb3b2f33692227e2e50e0e4fab529a44c4bfe9bfd9e81...             0.0   \n",
       "038ca41ecf0198facf7425bfd5cfa9237f144e4e41d9c55...             0.0   \n",
       "eaa36f7eff9c1682c86aace4ff319bce335f3d61c6e3624...             0.0   \n",
       "\n",
       "                                                    WarpGate_start  \\\n",
       "20d6247127ed58eeca069051672d3e8c3598e132d2fc6c4...       13.038405   \n",
       "20d6247127ed58eeca069051672d3e8c3598e132d2fc6c4...       13.000000   \n",
       "50cb3b2f33692227e2e50e0e4fab529a44c4bfe9bfd9e81...       13.114877   \n",
       "038ca41ecf0198facf7425bfd5cfa9237f144e4e41d9c55...       13.416408   \n",
       "eaa36f7eff9c1682c86aace4ff319bce335f3d61c6e3624...       13.000000   \n",
       "\n",
       "                                                    WarpGate_weight  \\\n",
       "20d6247127ed58eeca069051672d3e8c3598e132d2fc6c4...              1.0   \n",
       "20d6247127ed58eeca069051672d3e8c3598e132d2fc6c4...              1.0   \n",
       "50cb3b2f33692227e2e50e0e4fab529a44c4bfe9bfd9e81...              1.0   \n",
       "038ca41ecf0198facf7425bfd5cfa9237f144e4e41d9c55...              1.0   \n",
       "eaa36f7eff9c1682c86aace4ff319bce335f3d61c6e3624...              1.0   \n",
       "\n",
       "                                                    WarpPrism_start  \\\n",
       "20d6247127ed58eeca069051672d3e8c3598e132d2fc6c4...           1000.0   \n",
       "20d6247127ed58eeca069051672d3e8c3598e132d2fc6c4...           1000.0   \n",
       "50cb3b2f33692227e2e50e0e4fab529a44c4bfe9bfd9e81...           1000.0   \n",
       "038ca41ecf0198facf7425bfd5cfa9237f144e4e41d9c55...           1000.0   \n",
       "eaa36f7eff9c1682c86aace4ff319bce335f3d61c6e3624...           1000.0   \n",
       "\n",
       "                                                    WarpPrism_weight  \\\n",
       "20d6247127ed58eeca069051672d3e8c3598e132d2fc6c4...               0.0   \n",
       "20d6247127ed58eeca069051672d3e8c3598e132d2fc6c4...               0.0   \n",
       "50cb3b2f33692227e2e50e0e4fab529a44c4bfe9bfd9e81...               0.0   \n",
       "038ca41ecf0198facf7425bfd5cfa9237f144e4e41d9c55...               0.0   \n",
       "eaa36f7eff9c1682c86aace4ff319bce335f3d61c6e3624...               0.0   \n",
       "\n",
       "                                                    Zealot_start  \\\n",
       "20d6247127ed58eeca069051672d3e8c3598e132d2fc6c4...   1000.000000   \n",
       "20d6247127ed58eeca069051672d3e8c3598e132d2fc6c4...   1000.000000   \n",
       "50cb3b2f33692227e2e50e0e4fab529a44c4bfe9bfd9e81...     13.266499   \n",
       "038ca41ecf0198facf7425bfd5cfa9237f144e4e41d9c55...   1000.000000   \n",
       "eaa36f7eff9c1682c86aace4ff319bce335f3d61c6e3624...   1000.000000   \n",
       "\n",
       "                                                    Zealot_weight  \n",
       "20d6247127ed58eeca069051672d3e8c3598e132d2fc6c4...            0.0  \n",
       "20d6247127ed58eeca069051672d3e8c3598e132d2fc6c4...            0.0  \n",
       "50cb3b2f33692227e2e50e0e4fab529a44c4bfe9bfd9e81...            1.0  \n",
       "038ca41ecf0198facf7425bfd5cfa9237f144e4e41d9c55...            0.0  \n",
       "eaa36f7eff9c1682c86aace4ff319bce335f3d61c6e3624...            0.0  \n",
       "\n",
       "[5 rows x 101 columns]"
      ]
     },
     "execution_count": 3,
     "metadata": {},
     "output_type": "execute_result"
    }
   ],
   "source": [
    "raw_df = pd.read_hdf(\"../data/processed/summaries_protoss.hdf\", \"summaries\")\n",
    "raw_df = raw_df[raw_df.game_duration > 280]\n",
    "raw_df.head()"
   ]
  },
  {
   "cell_type": "code",
   "execution_count": 4,
   "metadata": {},
   "outputs": [],
   "source": [
    "metadata_columns = \"\"\"\n",
    "self_won\n",
    "game_start\n",
    "game_duration\n",
    "self_name self_race_is_protoss self_race_is_zerg self_race_is_terran\n",
    "opponent_name\n",
    "\"\"\".split()\n",
    "weight_columns = [col for col in raw_df.columns if col.endswith(\"_weight\")]\n",
    "\n",
    "data_columns = [col for col in raw_df.columns if col not in metadata_columns and col not in weight_columns]\n",
    "\n",
    "df = raw_df[data_columns]\n",
    "min_max_scaler = preprocessing.MinMaxScaler()\n",
    "df = pd.DataFrame(min_max_scaler.fit_transform(df), columns=df.columns, index=df.index)\n",
    "\n",
    "encoding_dim = 10"
   ]
  },
  {
   "cell_type": "code",
   "execution_count": 5,
   "metadata": {},
   "outputs": [
    {
     "data": {
      "text/plain": [
       "48"
      ]
     },
     "execution_count": 5,
     "metadata": {},
     "output_type": "execute_result"
    }
   ],
   "source": [
    "len(data_columns)\n"
   ]
  },
  {
   "cell_type": "code",
   "execution_count": 6,
   "metadata": {},
   "outputs": [],
   "source": [
    "input_data = Input(shape=(len(df.columns),))\n",
    "\n",
    "#encoded = Dense(20, activation='relu')(input_data)\n",
    "\n",
    "encoded = Dense(encoding_dim, activation='relu')(input_data)\n",
    "\n",
    "#decoded = Dense(20, activation='relu')(encoded)\n",
    "\n",
    "decoded = Dense(len(df.columns), activation='sigmoid')(encoded)\n",
    "\n",
    "autoencoder = Model(input_data, decoded)\n"
   ]
  },
  {
   "cell_type": "code",
   "execution_count": 7,
   "metadata": {},
   "outputs": [],
   "source": [
    "encoder = Model(input_data, encoded)\n"
   ]
  },
  {
   "cell_type": "code",
   "execution_count": 8,
   "metadata": {},
   "outputs": [
    {
     "name": "stdout",
     "output_type": "stream",
     "text": [
      "1018\n"
     ]
    },
    {
     "data": {
      "image/svg+xml": [
       "<svg xmlns=\"http://www.w3.org/2000/svg\" xmlns:xlink=\"http://www.w3.org/1999/xlink\" width=\"177pt\" height=\"255pt\" viewBox=\"0.00 0.00 133.00 191.00\">\n",
       "<g id=\"graph0\" class=\"graph\" transform=\"scale(0.75 0.75) rotate(0) translate(4 187)\">\n",
       "<title>G</title>\n",
       "<polygon fill=\"white\" stroke=\"transparent\" points=\"-4,4 -4,-187 129,-187 129,4 -4,4\"/>\n",
       "<!-- 140226646718352 -->\n",
       "<g id=\"node1\" class=\"node\">\n",
       "<title>140226646718352</title>\n",
       "<polygon fill=\"none\" stroke=\"black\" points=\"0,-146.5 0,-182.5 125,-182.5 125,-146.5 0,-146.5\"/>\n",
       "<text text-anchor=\"middle\" x=\"62.5\" y=\"-160.8\" font-family=\"Times,serif\" font-size=\"14.00\">input_1: InputLayer</text>\n",
       "</g>\n",
       "<!-- 140226646717536 -->\n",
       "<g id=\"node2\" class=\"node\">\n",
       "<title>140226646717536</title>\n",
       "<polygon fill=\"none\" stroke=\"black\" points=\"11.5,-73.5 11.5,-109.5 113.5,-109.5 113.5,-73.5 11.5,-73.5\"/>\n",
       "<text text-anchor=\"middle\" x=\"62.5\" y=\"-87.8\" font-family=\"Times,serif\" font-size=\"14.00\">dense_1: Dense</text>\n",
       "</g>\n",
       "<!-- 140226646718352&#45;&gt;140226646717536 -->\n",
       "<g id=\"edge1\" class=\"edge\">\n",
       "<title>140226646718352-&gt;140226646717536</title>\n",
       "<path fill=\"none\" stroke=\"black\" d=\"M62.5,-146.31C62.5,-138.29 62.5,-128.55 62.5,-119.57\"/>\n",
       "<polygon fill=\"black\" stroke=\"black\" points=\"66,-119.53 62.5,-109.53 59,-119.53 66,-119.53\"/>\n",
       "</g>\n",
       "<!-- 140226646718064 -->\n",
       "<g id=\"node3\" class=\"node\">\n",
       "<title>140226646718064</title>\n",
       "<polygon fill=\"none\" stroke=\"black\" points=\"11.5,-0.5 11.5,-36.5 113.5,-36.5 113.5,-0.5 11.5,-0.5\"/>\n",
       "<text text-anchor=\"middle\" x=\"62.5\" y=\"-14.8\" font-family=\"Times,serif\" font-size=\"14.00\">dense_2: Dense</text>\n",
       "</g>\n",
       "<!-- 140226646717536&#45;&gt;140226646718064 -->\n",
       "<g id=\"edge2\" class=\"edge\">\n",
       "<title>140226646717536-&gt;140226646718064</title>\n",
       "<path fill=\"none\" stroke=\"black\" d=\"M62.5,-73.31C62.5,-65.29 62.5,-55.55 62.5,-46.57\"/>\n",
       "<polygon fill=\"black\" stroke=\"black\" points=\"66,-46.53 62.5,-36.53 59,-46.53 66,-46.53\"/>\n",
       "</g>\n",
       "</g>\n",
       "</svg>"
      ],
      "text/plain": [
       "<IPython.core.display.SVG object>"
      ]
     },
     "execution_count": 8,
     "metadata": {},
     "output_type": "execute_result"
    }
   ],
   "source": [
    "autoencoder.compile(optimizer='adadelta', loss='mean_squared_error')\n",
    "print(autoencoder.count_params())\n",
    "SVG(model_to_dot(autoencoder).create(prog='dot', format='svg'))\n"
   ]
  },
  {
   "cell_type": "code",
   "execution_count": 9,
   "metadata": {},
   "outputs": [
    {
     "name": "stdout",
     "output_type": "stream",
     "text": [
      "Training on 2855 samples. Testing on 151.\n"
     ]
    }
   ],
   "source": [
    "x_all = df.sample(frac=1.0).values\n",
    "num_samples = int(0.95 * x_all.shape[0])\n",
    "x_train, x_test = x_all[:num_samples, :], x_all[num_samples:, :]\n",
    "print(\"Training on {} samples. Testing on {}.\".format(\n",
    "    num_samples, x_all.shape[0] - num_samples))\n"
   ]
  },
  {
   "cell_type": "code",
   "execution_count": null,
   "metadata": {},
   "outputs": [],
   "source": []
  },
  {
   "cell_type": "code",
   "execution_count": null,
   "metadata": {},
   "outputs": [],
   "source": [
    "history = autoencoder.fit(x_train, x_train,\n",
    "                epochs=2000,\n",
    "                batch_size=1024,\n",
    "                shuffle=True,\n",
    "                verbose=0,\n",
    "                validation_data=(x_test, x_test))\n"
   ]
  },
  {
   "cell_type": "code",
   "execution_count": null,
   "metadata": {},
   "outputs": [],
   "source": [
    "plt.plot(history.history['loss'])\n",
    "plt.plot(history.history['val_loss'])\n",
    "plt.title('model loss')\n",
    "plt.ylabel('loss')\n",
    "plt.xlabel('epoch')\n",
    "plt.legend(['train', 'test'], loc='upper left')\n",
    "plt.show()"
   ]
  },
  {
   "cell_type": "code",
   "execution_count": null,
   "metadata": {},
   "outputs": [],
   "source": []
  },
  {
   "cell_type": "code",
   "execution_count": null,
   "metadata": {},
   "outputs": [],
   "source": [
    "cluster_games_df = raw_df[raw_df.game_start > datetime.datetime(2020, 1, 1)]\n",
    "original_space = min_max_scaler.transform(cluster_games_df[data_columns].values)\n",
    "encoded_space =autoencoder.predict(original_space)"
   ]
  },
  {
   "cell_type": "code",
   "execution_count": null,
   "metadata": {},
   "outputs": [],
   "source": [
    "encoded_space[0]"
   ]
  },
  {
   "cell_type": "code",
   "execution_count": null,
   "metadata": {},
   "outputs": [],
   "source": [
    "original_space[0]"
   ]
  },
  {
   "cell_type": "code",
   "execution_count": null,
   "metadata": {},
   "outputs": [],
   "source": [
    "diffs = encoded_space - original_space\n",
    "cluster_games_df['creativity'] = np.einsum(\"ij,ij->i\", diffs, diffs)"
   ]
  },
  {
   "cell_type": "code",
   "execution_count": null,
   "metadata": {
    "scrolled": false
   },
   "outputs": [],
   "source": [
    "creative_games_df= cluster_games_df.sort_values('creativity')\n",
    "creative_games_won = creative_games_df[creative_games_df['self_won'] > 0]\n",
    "creative_games_won.tail(20)"
   ]
  },
  {
   "cell_type": "code",
   "execution_count": null,
   "metadata": {},
   "outputs": [],
   "source": [
    "sns.distplot(cluster_games_df.creativity)"
   ]
  },
  {
   "cell_type": "code",
   "execution_count": null,
   "metadata": {},
   "outputs": [],
   "source": [
    "def summarize_player(*names):\n",
    "    names = [n.lower() for n in names]\n",
    "    series = cluster_games_df[cluster_games_df.self_name.str.lower().isin(names)].creativity\n",
    "    print(series.describe())\n",
    "    return sns.distplot(series)\n",
    "\n",
    "def summarize_player_contains(name):\n",
    "    all_names = set(creative_games_df[creative_games_df['self_name'].str.lower().str.contains(name.lower())].self_name)\n",
    "    print(\"Names to use: {}\".format(sorted(all_names)))\n",
    "    return summarize_player(*all_names)"
   ]
  },
  {
   "cell_type": "code",
   "execution_count": null,
   "metadata": {},
   "outputs": [],
   "source": []
  },
  {
   "cell_type": "code",
   "execution_count": null,
   "metadata": {},
   "outputs": [],
   "source": [
    "summarize_player_contains(\"maxpax\")"
   ]
  },
  {
   "cell_type": "code",
   "execution_count": null,
   "metadata": {},
   "outputs": [],
   "source": [
    "summarize_player_contains(\"dear\")"
   ]
  },
  {
   "cell_type": "code",
   "execution_count": null,
   "metadata": {
    "scrolled": true
   },
   "outputs": [],
   "source": [
    "summarize_player_contains(\"rotterdam\")"
   ]
  },
  {
   "cell_type": "code",
   "execution_count": null,
   "metadata": {},
   "outputs": [],
   "source": [
    "summarize_player_contains(\"zest\")"
   ]
  },
  {
   "cell_type": "code",
   "execution_count": null,
   "metadata": {},
   "outputs": [],
   "source": [
    "summarize_player_contains(\"skillous\")"
   ]
  },
  {
   "cell_type": "code",
   "execution_count": null,
   "metadata": {},
   "outputs": [],
   "source": []
  }
 ],
 "metadata": {
  "kernelspec": {
   "display_name": "Python 3",
   "language": "python",
   "name": "python3"
  },
  "language_info": {
   "codemirror_mode": {
    "name": "ipython",
    "version": 3
   },
   "file_extension": ".py",
   "mimetype": "text/x-python",
   "name": "python",
   "nbconvert_exporter": "python",
   "pygments_lexer": "ipython3",
   "version": "3.8.2"
  }
 },
 "nbformat": 4,
 "nbformat_minor": 4
}
